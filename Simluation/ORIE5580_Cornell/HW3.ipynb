{
 "cells": [
  {
   "cell_type": "markdown",
   "metadata": {
    "id": "KdHI8a1S9iUn"
   },
   "source": [
    "# ORIE 4580/5580/5581 Assignment 3\n",
    "\n",
    "#### Students: S. Ulam (su001) and J. von Neuman (jvn001)\n",
    "\n",
    "### Github link: [example Github link](https://github.com/SidBanerjee/ORIE4580-Simulation/blob/main/Notebooks/Unit0-Intro_Demos.ipynb)\n",
    "\n",
    "(**Please replace this with your own link!**)"
   ]
  },
  {
   "cell_type": "markdown",
   "metadata": {
    "id": "SWIW16cwI0bB"
   },
   "source": [
    "### Instructions\n",
    "\n",
    "\n",
    "* Due Thursday September 25, at 11.59pm on Gradescope.\n",
    "* Assignment .ipynb files available for download on [Canvas](https://canvas.cornell.edu/courses/80773#:~:text=Assignments-,Assignments,-Assignments%20module%20publish).\n",
    "* Do all your work in provided notebook (text answers typeset in markdown; show all required code and generate plots inline), and then generate and submit a pdf.\n",
    "* Ideally do assignments in groups of 2, and submit a single pdf with both names\n",
    "* Please show your work and clearly mark your answers.\n",
    "* You can use any code fragments given in class, found online (for example, on StackOverflow), or generated via Gemini/Claude/ChatGPT (you are encouraged to use these for first drafts) **with proper referencing**.\n",
    "* You can also discuss with others (again, please reference them if you do so); but you must write your final answers on your own as a team.\n",
    "\n",
    "\n",
    "\n",
    "\n",
    "### Suggested reading\n",
    "\n",
    "Chapters 7 (you can skim through this), and chapters 8 and 9 of [Introduction to Probability](https://chance.dartmouth.edu/teaching_aids/books_articles/probability_book/book.html) by Grinstead and Snell.\n",
    "\n",
    "Chapter 3 and chapter 4 (up to section 4.5) of [Simulation by Ross](https://catalog.library.cornell.edu/catalog/12745977)."
   ]
  },
  {
   "cell_type": "code",
   "execution_count": 1,
   "metadata": {
    "id": "upFYbOmHI4Uv"
   },
   "outputs": [],
   "source": [
    "#importing necessary packages\n",
    "import numpy as np\n",
    "import matplotlib.pyplot as plt\n",
    "import scipy.stats\n",
    "%matplotlib inline"
   ]
  },
  {
   "cell_type": "markdown",
   "metadata": {
    "id": "lAy475sN9iUs"
   },
   "source": [
    "<hr><hr>\n",
    "\n",
    "## Question 1: Combining LCGs (20 points)\n",
    "\n",
    "In order to avoid biases, simulations should not use anywhere near the full period of an LCG (otherwise, the random sequence repeats\\ldots). For example, a typical traffic simulator may have $10,000$ vehicles, each experiencing thousands of random disturbances, thus needing around $10^7$ random samples per replication -- for this, an LCG using $m=2^{31}-1\\approx 2\\times 10^9$ is insufficient, as after $100$ replications the sequences get correlated.\n",
    "\n",
    "One method to combine multiple LCGs to obtain a generator with a longer period is to add a smaller period LCG to it. For example, suppose we have two generators $X_{n+1}  =  (a_1 X_n) \\mbox{ mod } m_1$ and $Y_{n+1}  =  (a_2 Y_n) \\mbox{ mod } m_2$, with $m_1>m_2$. We can derive a combined generator by setting $Z_n  =  (X_n + Y_n) \\mbox{ mod } m_1$. If properly designed, the resulting period can be on the order of $m_1m_2$. We will now study a small example to see how this works.\n"
   ]
  },
  {
   "cell_type": "markdown",
   "metadata": {
    "id": "-geWMEJp9iUt"
   },
   "source": [
    "<hr>\n",
    "\n",
    "**(a)** Consider two LCGs, $x_{n+1} = (5 x_n) \\mod 16$ and $y_{n+1} = (2 y_n) \\mod 7$. Starting both with seed $x_0 = y_0 = 1$, plot the sequences $x_n, y_n$ using the clock visualization introduced in class (separate plot for each sequence; you can use and modify the code in Demo-PRNGs.ipynb on Canvas).\n",
    "\n",
    "<hr>"
   ]
  },
  {
   "cell_type": "code",
   "execution_count": 2,
   "metadata": {
    "id": "5jsoc-t6D-Q7"
   },
   "outputs": [],
   "source": [
    "# Functions to visualize LCG sequence on clock (see demo notebook)\n"
   ]
  },
  {
   "cell_type": "code",
   "execution_count": 3,
   "metadata": {
    "id": "GRvFbLtFEC16"
   },
   "outputs": [],
   "source": [
    "# Function to generate pseudorandom sequence using LCG\n",
    "# Set default parameters to glibc specifications (see demo notebook)\n"
   ]
  },
  {
   "cell_type": "code",
   "execution_count": null,
   "metadata": {
    "id": "b2hOTeOyEEkI"
   },
   "outputs": [],
   "source": [
    "# Ans"
   ]
  },
  {
   "cell_type": "markdown",
   "metadata": {
    "id": "FDfX7mQz9iUv"
   },
   "source": [
    "<hr>\n",
    "\n",
    "**(b)** Next, define a combined LCG as $z_{n} = (x_n+y_n) \\mod 16$. Starting both the base LCGs with seed $x_0 = y_0 = 1$, plot the sequence $z_n$ using the clock visualization given in class.\n",
    "\n",
    "<hr>"
   ]
  },
  {
   "cell_type": "code",
   "execution_count": null,
   "metadata": {
    "id": "pLwpyLwZEIHk"
   },
   "outputs": [],
   "source": []
  },
  {
   "cell_type": "markdown",
   "metadata": {
    "id": "W7FAnv8z9iUx"
   },
   "source": [
    "___\n",
    "**(c)** What are the periods of the pseudo-random sequences $x_n, y_n$ and $z_n$?\n",
    "___"
   ]
  },
  {
   "cell_type": "markdown",
   "metadata": {
    "id": "XAWLfsGGMO7X"
   },
   "source": [
    "### Ans.\n"
   ]
  },
  {
   "cell_type": "markdown",
   "metadata": {
    "id": "wmL74RyC9iUz"
   },
   "source": [
    "___\n",
    "___\n",
    "## Question 2: inverting cdfs (25 pts)\n",
    "\n",
    "In class, we defined $F^{-1}(y)$ for a continuous increasing cdf $F(x)$ as the unique $x$ such that $F(x) = y$ (for $y\\in[0,1]$). More generally, for any cdf $F$ we can use the inversion method based on its generalized inverse or *pseudoinverse*:\n",
    "\t$$F^{-1}(y) = \\inf\\{x|F(x)\\geq y\\}$$\n",
    "\t(where $\\inf$ denotes the \\href{https://en.wikipedia.org/wiki/Infimum_and_supremum}{infimum}; if you have not seen this before, treat it as minimum).\n"
   ]
  },
  {
   "cell_type": "markdown",
   "metadata": {
    "id": "k8gt9TWM9iU0"
   },
   "source": [
    "___\n",
    "**(a)** Find the pseudoinverse $F^{-1}(y)$ for the following mixed (discrete/continuous) cdf\n",
    "\t$$F(x)=\n",
    "\t\\begin{cases}\n",
    "\t0 & \\mbox{for $x < 0$}\\\\\n",
    "\tx & \\mbox{for $0 \\leq x < \\frac{1}{2}$}, \\\\\n",
    "\t\\frac{1}{2} & \\mbox{for $\\frac{1}{2}\\leq x < 1$}, \\\\\n",
    "\t1 & \\mbox{for $x\\geq 1$}\n",
    "\t \\end{cases}$$\n",
    "___"
   ]
  },
  {
   "cell_type": "markdown",
   "metadata": {
    "id": "h4Vtj9TBMr6A"
   },
   "source": [
    "### Ans.\n"
   ]
  },
  {
   "cell_type": "markdown",
   "metadata": {
    "id": "z5IrvAkx9iU1"
   },
   "source": [
    "___\n",
    "**(b)** Use the above definition to get an inversion algorithm for the $Geometric(p)$ distribution (with pmf $p(k) = p(1-p)^{k-1}\\,\\forall\\,k\\in\\{1,2,3,\\ldots\\}$). Implement this, and generate and plot the histogram of 1000 samples from a $Geometric(0.42)$ distribution.\n",
    "(For this, it may be useful for you to first understand how the [scipy.stats](https://docs.scipy.org/doc/scipy/reference/stats.html) library works, and in particular, how it provides methods to compute various statistics for many different random variables, including the [geometric r.v.](https://docs.scipy.org/doc/scipy/reference/generated/scipy.stats.geom.html#scipy.stats.geom))\n",
    "___"
   ]
  },
  {
   "cell_type": "code",
   "execution_count": null,
   "metadata": {
    "id": "JQIulHgEJrwz"
   },
   "outputs": [],
   "source": []
  },
  {
   "cell_type": "markdown",
   "metadata": {
    "id": "TRn55xOT9iU3"
   },
   "source": [
    "___\n",
    "**(c)** The p.d.f. of the random variable $X$ is given by\n",
    "\t$$\n",
    "\tf(x) =\n",
    "\t\\begin{cases}\n",
    "\t\te^{x-2} & \\text{for }0 \\leq x \\leq 2, \\\\\n",
    "\t\te^{-x} & \\text{for }x > 2, \\\\\n",
    "\t\t0 & \\text{otherwise,}\n",
    "\t\\end{cases}\n",
    "\t$$\n",
    "\tDescribe and implement an inversion algorithm to generate samples of $X$. Generate 1,000 samples and plot a histogram. Compare the histogram and the p.d.f.\n"
   ]
  },
  {
   "cell_type": "markdown",
   "metadata": {
    "id": "dNmGPdu8OaiK"
   },
   "source": [
    "___\n",
    "\n",
    "### Ans."
   ]
  },
  {
   "cell_type": "code",
   "execution_count": null,
   "metadata": {
    "id": "2bF1VUkGJEpI"
   },
   "outputs": [],
   "source": []
  },
  {
   "cell_type": "markdown",
   "metadata": {
    "id": "UqMEV_6i9iU4"
   },
   "source": [
    "<hr><hr>\n",
    "\n",
    "## Question 3: Acceptance-Rejection (25 pts)\n",
    "\n",
    "Let the random variable $X$ have density\n",
    "$$f(x) = \\begin{cases} (5 x^4 + 4x^3 + 3x^2+1)/4  & \\text{ for } 0 \\leq x \\leq 1, \\\\\n",
    "0 & \\text{ otherwise. } \\end{cases}$$"
   ]
  },
  {
   "cell_type": "markdown",
   "metadata": {
    "id": "dNp6yFaQ9iU5"
   },
   "source": [
    "<hr>\n",
    "\n",
    "**(a)** Give an acceptance-rejection algorithm to generate samples of\n",
    "\t$X$.\n",
    "\n",
    "<hr>"
   ]
  },
  {
   "cell_type": "markdown",
   "metadata": {
    "id": "AKnYl0kLLd37"
   },
   "source": [
    "### Ans.\n"
   ]
  },
  {
   "cell_type": "code",
   "execution_count": null,
   "metadata": {
    "id": "y1c8ExQxLdEB"
   },
   "outputs": [],
   "source": []
  },
  {
   "cell_type": "markdown",
   "metadata": {
    "id": "96QbSXGn9iU8"
   },
   "source": [
    "<hr>\n",
    "\n",
    "**(b)** On average, how many samples from the uniform distribution over $[0, 1]$ would your acceptance-rejection algorithm need in order to generate one sample of $X$?\n",
    "\n",
    "<hr>"
   ]
  },
  {
   "cell_type": "markdown",
   "metadata": {
    "id": "w64tpH0bO_Hb"
   },
   "source": [
    "### Ans.\n"
   ]
  },
  {
   "cell_type": "markdown",
   "metadata": {
    "id": "YudPqIiq9iU9"
   },
   "source": [
    "<hr>\n",
    "\n",
    "**(c)** Use your algorithm in (a) to generate 2,500 samples of $X$. Note that this will require more than 2500 uniform random variables.\n",
    "\n",
    "Plot a histogram of your sample   and compare it against the true pdf.\n",
    "\n",
    "<hr>"
   ]
  },
  {
   "cell_type": "code",
   "execution_count": null,
   "metadata": {
    "id": "7-qoF2L_LmIF"
   },
   "outputs": [],
   "source": []
  },
  {
   "cell_type": "markdown",
   "metadata": {
    "id": "zI57JDhK9iU_"
   },
   "source": [
    "<hr><hr>\n",
    "\n",
    "## Question 4: Generalized Acceptance-Rejection (30 pts)\n",
    "\n",
    "We want to generate a $\\mathcal{N}(0,1)$ rv $X$, with pdf\n",
    "$f(x) = \\frac{e^{-x^2/2}}{\\sqrt{2\\pi}} $,\n",
    "using generalized acceptance-rejection."
   ]
  },
  {
   "cell_type": "markdown",
   "metadata": {
    "id": "ycCxosPw9iVA"
   },
   "source": [
    "<hr>\n",
    "\n",
    "**(a)** First, suppose we choose the proposal distribution to be a \\emph{Laplace} (i.e., two-sided Exponential) distribution, which has pdf $g(x) = e^{-|x|}/2$. Describe (and implement) an inversion algorithm to get samples from this distribution.\n",
    "\n",
    "<hr>"
   ]
  },
  {
   "cell_type": "code",
   "execution_count": null,
   "metadata": {
    "id": "iUMdO2jTDC5n"
   },
   "outputs": [],
   "source": []
  },
  {
   "cell_type": "markdown",
   "metadata": {
    "id": "w5uME6KO9iVB"
   },
   "source": [
    "<hr>\n",
    "\n",
    "**(b)** Determine the smallest $k$ such that $kg(x)\\geq f(x)\\,\\forall\\,x\\in\\mathbb{R}$. Using this, propose (and implement) an acceptance-rejection algorithm for sampling $X\\sim\\mathcal{N}(0,1)$, and compute the expected number of samples needed for generating each sample.\n",
    "\n",
    "<hr>"
   ]
  },
  {
   "cell_type": "markdown",
   "metadata": {
    "id": "4Y-Qm3x-PbmM"
   },
   "source": [
    "### Ans."
   ]
  },
  {
   "cell_type": "markdown",
   "metadata": {
    "id": "8Uoi08eu9iVD"
   },
   "source": [
    "<hr>\n",
    "\n",
    "**(c)** Generate $1000$ samples from your method in part (b), and plot the histogram of the samples. Also report the average and 95\\% CI for the number of $U[0,1]$ samples needed to generate the $1000$ samples.\n",
    "\n",
    "<hr>"
   ]
  },
  {
   "cell_type": "code",
   "execution_count": null,
   "metadata": {
    "id": "5qVDE0RTDMIZ"
   },
   "outputs": [],
   "source": []
  },
  {
   "cell_type": "markdown",
   "metadata": {
    "id": "s7pvcQl7pgbx"
   },
   "source": [
    "<hr>\n",
    "\n",
    "**(d)** Now, suppose instead we choose the proposal distribution to be a Cauchy  distribution with pdf $g(x) = \\frac{1}{\\pi(1+x^2)}$. Describe and implement an inversion algorithm to get samples from this distribution, and plot the histogram of 1000 samples from this distribution.\n",
    "\n",
    "<hr>"
   ]
  },
  {
   "cell_type": "code",
   "execution_count": null,
   "metadata": {
    "id": "XepRuz8MpqoG"
   },
   "outputs": [],
   "source": []
  },
  {
   "cell_type": "markdown",
   "metadata": {
    "id": "lC7VSz_n9iVF"
   },
   "source": [
    "<hr>\n",
    "\n",
    "**(e)** Repeat parts $(b)$ and $(c)$ for this proposal distribution.\n",
    "\n",
    "<hr>"
   ]
  },
  {
   "cell_type": "markdown",
   "metadata": {
    "id": "vFu541LlPzQ2"
   },
   "source": [
    "### Ans."
   ]
  },
  {
   "cell_type": "code",
   "execution_count": null,
   "metadata": {
    "id": "uzJE8B1ZsWoV"
   },
   "outputs": [],
   "source": []
  }
 ],
 "metadata": {
  "colab": {
   "provenance": []
  },
  "kernelspec": {
   "display_name": "Python 3 (ipykernel)",
   "language": "python",
   "name": "python3"
  },
  "language_info": {
   "codemirror_mode": {
    "name": "ipython",
    "version": 3
   },
   "file_extension": ".py",
   "mimetype": "text/x-python",
   "name": "python",
   "nbconvert_exporter": "python",
   "pygments_lexer": "ipython3",
   "version": "3.11.3"
  }
 },
 "nbformat": 4,
 "nbformat_minor": 1
}
